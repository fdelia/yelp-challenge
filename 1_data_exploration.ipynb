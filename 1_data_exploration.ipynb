{
 "cells": [
  {
   "cell_type": "code",
   "execution_count": 1,
   "metadata": {
    "collapsed": true
   },
   "outputs": [],
   "source": [
    "%%bash\n",
    "\n",
    "#head -n 1 yelp_dataset_challenge_round9/yelp_academic_dataset_user.json"
   ]
  },
  {
   "cell_type": "code",
   "execution_count": 42,
   "metadata": {},
   "outputs": [
    {
     "name": "stdout",
     "output_type": "stream",
     "text": [
      "Done.\n"
     ]
    }
   ],
   "source": [
    "%matplotlib inline\n",
    "import re\n",
    "import numpy as np\n",
    "import matplotlib.pyplot as plt\n",
    "plt.style.use('ggplot')\n",
    "import seaborn as sns\n",
    "sns.set(color_codes=True)\n",
    "\n",
    "from time import time\n",
    "from datetime import datetime\n",
    "import warnings\n",
    "warnings.filterwarnings('ignore')\n",
    "\n",
    "import pandas as pd\n",
    "import os; import json; import fileinput\n",
    "\n",
    "fileinput.close() # sometimes fileinput is already active\n",
    "def load_file(filename, transformer=None):\n",
    "    data_dir = \"yelp_dataset_challenge_round9\"\n",
    "    filepath = os.path.join(data_dir, filename)\n",
    "    max_lines = 20000\n",
    "\n",
    "    data = []\n",
    "    for line in fileinput.input(filepath):\n",
    "        d = json.loads(line)\n",
    "                \n",
    "        if transformer:\n",
    "            d = transformer(d)\n",
    "\n",
    "        data.append(d)\n",
    "        if len(data) > max_lines: break\n",
    "            \n",
    "    fileinput.close()\n",
    "    return pd.DataFrame(data)\n",
    "\n",
    "def transf_checkin(d):\n",
    "    d['n_time'] = len(d['time'])\n",
    "    return d\n",
    "\n",
    "def transf_review(d):\n",
    "    d['date'] = datetime.strptime(d['date'], '%Y-%m-%d')\n",
    "    d['weekday'] = d['date'].weekday()\n",
    "    return d\n",
    "\n",
    "def transf_user(d):    \n",
    "    d['n_friends'] = len(d['friends'])\n",
    "    d['n_elite'] = len(d['elite'])\n",
    "    del d['friends']\n",
    "    del d['elite']\n",
    "    #del d['compliment_writer'] # are there other more than one type?\n",
    "    return d\n",
    "\n",
    "df_bus = load_file(\"yelp_academic_dataset_business.json\")\n",
    "df_checkin = load_file(\"yelp_academic_dataset_checkin.json\", transf_checkin)\n",
    "df_review = load_file(\"yelp_academic_dataset_review.json\", transf_review)\n",
    "df_tip = load_file(\"yelp_academic_dataset_tip.json\")\n",
    "df_user = load_file(\"yelp_academic_dataset_user.json\", transf_user)\n",
    "\n",
    "def hours_to_list(hours):\n",
    "    mat = np.zeros((7,), dtype=np.int8)\n",
    "    if hours is None: \n",
    "        return mat\n",
    "    for h in hours:\n",
    "        if h.startswith('Mon'): mat[0] = 1\n",
    "        if h.startswith('Tue'): mat[1] = 1\n",
    "        if h.startswith('Wed'): mat[2] = 1\n",
    "        if h.startswith('Thu'): mat[3] = 1\n",
    "        if h.startswith('Fri'): mat[4] = 1\n",
    "        if h.startswith('Sat'): mat[5] = 1\n",
    "        if h.startswith('Sun'): mat[6] = 1\n",
    "    return mat\n",
    "\n",
    "# add attributes columns\n",
    "# TODO unfinished for \"BusinessParking\", \"GoodForMeal\", \"Ambience\"\n",
    "def add_attribute_cols(attr):\n",
    "    s = {}\n",
    "    if attr is not None:\n",
    "        for a in attr:\n",
    "            t = a.split(':')\n",
    "            if \"True\" in t[1]:\n",
    "                s[\"attr_\" + t[0].strip()] = 1\n",
    "            else:\n",
    "                s[\"attr_\" + t[0].strip()] = 0\n",
    "            if \"RestaurantsPriceRange2\" in a:\n",
    "                s[\"attr_RestaurantsPriceRange2\"] = int(t[1])\n",
    "            if \"WiFi: free\" in a:\n",
    "                s[\"attr_WiFi\"] = 1\n",
    "    return pd.Series(s, dtype=np.int8)\n",
    "\n",
    "df_bus['opening_days'] = df_bus['hours'].apply(hours_to_list)\n",
    "df_bus = df_bus.merge(df_bus['attributes'].apply(add_attribute_cols), left_index=True, right_index=True)\n",
    "df_bus = df_bus.fillna(0, downcast='infer')\n",
    "\n",
    "#df_review['weekday'] = df_reveiws['date'].apply(lambda x: x.weekday())\n",
    "df_review = df_review.sort_values(['business_id'])\n",
    "\n",
    "#df_user['friends']\n",
    "#df_user['elite']\n",
    "print('Done.')"
   ]
  },
  {
   "cell_type": "code",
   "execution_count": 47,
   "metadata": {},
   "outputs": [
    {
     "data": {
      "text/html": [
       "<div>\n",
       "<style>\n",
       "    .dataframe thead tr:only-child th {\n",
       "        text-align: right;\n",
       "    }\n",
       "\n",
       "    .dataframe thead th {\n",
       "        text-align: left;\n",
       "    }\n",
       "\n",
       "    .dataframe tbody tr th {\n",
       "        vertical-align: top;\n",
       "    }\n",
       "</style>\n",
       "<table border=\"1\" class=\"dataframe\">\n",
       "  <thead>\n",
       "    <tr style=\"text-align: right;\">\n",
       "      <th></th>\n",
       "      <th>opening_days</th>\n",
       "      <th>hours</th>\n",
       "    </tr>\n",
       "  </thead>\n",
       "  <tbody>\n",
       "    <tr>\n",
       "      <th>0</th>\n",
       "      <td>[1, 1, 1, 1, 1, 1, 1]</td>\n",
       "      <td>[Monday 11:0-21:0, Tuesday 11:0-21:0, Wednesda...</td>\n",
       "    </tr>\n",
       "    <tr>\n",
       "      <th>1</th>\n",
       "      <td>[1, 1, 1, 1, 1, 1, 1]</td>\n",
       "      <td>[Monday 0:0-0:0, Tuesday 0:0-0:0, Wednesday 0:...</td>\n",
       "    </tr>\n",
       "    <tr>\n",
       "      <th>2</th>\n",
       "      <td>[1, 1, 1, 1, 1, 1, 1]</td>\n",
       "      <td>[Monday 11:0-2:0, Tuesday 11:0-2:0, Wednesday ...</td>\n",
       "    </tr>\n",
       "    <tr>\n",
       "      <th>3</th>\n",
       "      <td>[0, 1, 1, 1, 1, 1, 0]</td>\n",
       "      <td>[Tuesday 10:0-21:0, Wednesday 10:0-21:0, Thurs...</td>\n",
       "    </tr>\n",
       "    <tr>\n",
       "      <th>4</th>\n",
       "      <td>[0, 0, 0, 0, 0, 0, 0]</td>\n",
       "      <td>0</td>\n",
       "    </tr>\n",
       "    <tr>\n",
       "      <th>5</th>\n",
       "      <td>[1, 1, 0, 1, 1, 1, 1]</td>\n",
       "      <td>[Monday 10:30-20:0, Tuesday 10:30-20:0, Thursd...</td>\n",
       "    </tr>\n",
       "    <tr>\n",
       "      <th>6</th>\n",
       "      <td>[1, 1, 1, 1, 1, 1, 1]</td>\n",
       "      <td>[Monday 10:0-18:0, Tuesday 10:0-18:0, Wednesda...</td>\n",
       "    </tr>\n",
       "    <tr>\n",
       "      <th>7</th>\n",
       "      <td>[1, 1, 1, 1, 1, 1, 1]</td>\n",
       "      <td>[Monday 10:0-22:0, Tuesday 10:0-22:0, Wednesda...</td>\n",
       "    </tr>\n",
       "    <tr>\n",
       "      <th>8</th>\n",
       "      <td>[1, 1, 1, 1, 1, 1, 1]</td>\n",
       "      <td>[Monday 9:30-18:0, Tuesday 9:30-18:0, Wednesda...</td>\n",
       "    </tr>\n",
       "    <tr>\n",
       "      <th>9</th>\n",
       "      <td>[0, 0, 0, 0, 0, 0, 0]</td>\n",
       "      <td>0</td>\n",
       "    </tr>\n",
       "  </tbody>\n",
       "</table>\n",
       "</div>"
      ],
      "text/plain": [
       "            opening_days                                              hours\n",
       "0  [1, 1, 1, 1, 1, 1, 1]  [Monday 11:0-21:0, Tuesday 11:0-21:0, Wednesda...\n",
       "1  [1, 1, 1, 1, 1, 1, 1]  [Monday 0:0-0:0, Tuesday 0:0-0:0, Wednesday 0:...\n",
       "2  [1, 1, 1, 1, 1, 1, 1]  [Monday 11:0-2:0, Tuesday 11:0-2:0, Wednesday ...\n",
       "3  [0, 1, 1, 1, 1, 1, 0]  [Tuesday 10:0-21:0, Wednesday 10:0-21:0, Thurs...\n",
       "4  [0, 0, 0, 0, 0, 0, 0]                                                  0\n",
       "5  [1, 1, 0, 1, 1, 1, 1]  [Monday 10:30-20:0, Tuesday 10:30-20:0, Thursd...\n",
       "6  [1, 1, 1, 1, 1, 1, 1]  [Monday 10:0-18:0, Tuesday 10:0-18:0, Wednesda...\n",
       "7  [1, 1, 1, 1, 1, 1, 1]  [Monday 10:0-22:0, Tuesday 10:0-22:0, Wednesda...\n",
       "8  [1, 1, 1, 1, 1, 1, 1]  [Monday 9:30-18:0, Tuesday 9:30-18:0, Wednesda...\n",
       "9  [0, 0, 0, 0, 0, 0, 0]                                                  0"
      ]
     },
     "execution_count": 47,
     "metadata": {},
     "output_type": "execute_result"
    }
   ],
   "source": [
    "# explore dfs here\n",
    "\n",
    "#df_user[df_user['compliment_writer'] != 'user']\n",
    "#print(df_bus[df_bus['type'] != 'business'])\n",
    "#print(df_checkin[df_checkin['type'] != 'checkin'])\n",
    "df_bus.head(10)[['opening_days', 'hours']]"
   ]
  },
  {
   "cell_type": "code",
   "execution_count": 17,
   "metadata": {},
   "outputs": [],
   "source": [
    "# Memory optimization\n",
    "# Technical stuff, contributes nothing to analysis\n",
    "for df in [df_bus, df_checkin, df_review, df_tip, df_user]:\n",
    "    conv = df.select_dtypes(include=['int']).apply(pd.to_numeric,downcast='unsigned')\n",
    "    df[conv.columns] = conv\n",
    "\n",
    "# Show memory usage\n",
    "#print(df_bus.info(memory_usage='deep'))"
   ]
  },
  {
   "cell_type": "code",
   "execution_count": 5,
   "metadata": {},
   "outputs": [
    {
     "data": {
      "image/png": "[encoded data removed]",
      "text/plain": [
       "<matplotlib.figure.Figure at 0x103f87b70>"
      ]
     },
     "metadata": {},
     "output_type": "display_data"
    }
   ],
   "source": [
    "cols = ['review_count', 'stars', 'is_open', 'latitude', 'longitude']\n",
    "axes = df_bus.hist(column=cols)\n",
    "for i in axes:\n",
    "    for ax in i:\n",
    "        ax.set_yscale('log')\n",
    "\n",
    "plt.subplots_adjust(hspace=0.8)\n",
    "plt.suptitle('business')\n",
    "plt.show()\n",
    "\n",
    "# business per city\n",
    "#v = df_bus.groupby('city').size()#.value_counts()\n",
    "#print(v)\n",
    "#sns.lmplot('latitude', 'longitude', data=df_bus, fit_reg=False)\n",
    "#ax = sns.barplot(x=np.array(v.keys()), y=v.values, palette=\"BuGn_d\")\n",
    "#ax.set_yscale('log') \n"
   ]
  },
  {
   "cell_type": "code",
   "execution_count": 6,
   "metadata": {},
   "outputs": [],
   "source": [
    "import gmaps\n",
    "from api import api\n",
    "gmaps.configure(api_key=api)\n",
    "fig = gmaps.figure()\n",
    "heatmap_layer = gmaps.heatmap_layer(df_bus[['latitude', 'longitude']])\n",
    "fig.add_layer(heatmap_layer)\n",
    "#fig"
   ]
  },
  {
   "cell_type": "code",
   "execution_count": 7,
   "metadata": {},
   "outputs": [
    {
     "data": {
      "image/png": "[encoded data removed]",
      "text/plain": [
       "<matplotlib.figure.Figure at 0x11faa9630>"
      ]
     },
     "metadata": {},
     "output_type": "display_data"
    }
   ],
   "source": [
    "cols = ['n_time']\n",
    "axes = df_checkin.hist(column=cols)\n",
    "for i in axes:\n",
    "    for ax in i:\n",
    "        ax.set_yscale('log')\n",
    "\n",
    "plt.subplots_adjust(hspace=0.8)\n",
    "plt.suptitle('checkin')\n",
    "plt.show()"
   ]
  },
  {
   "cell_type": "code",
   "execution_count": 8,
   "metadata": {},
   "outputs": [
    {
     "data": {
      "image/png": "[encoded data removed]",
      "text/plain": [
       "<matplotlib.figure.Figure at 0x11f9f9d30>"
      ]
     },
     "metadata": {},
     "output_type": "display_data"
    }
   ],
   "source": [
    "cols = ['stars', 'cool', 'funny', 'useful']\n",
    "axes = df_review.hist(column=cols)\n",
    "for i in axes:\n",
    "    for ax in i:\n",
    "        ax.set_yscale('log')\n",
    "\n",
    "plt.subplots_adjust(hspace=0.8)\n",
    "plt.suptitle('review')\n",
    "plt.show()\n",
    "\n",
    "# reviews per user: see under user\n",
    "# reviews per business: see under business"
   ]
  },
  {
   "cell_type": "code",
   "execution_count": 9,
   "metadata": {},
   "outputs": [
    {
     "data": {
      "image/png": "[encoded data removed]",
      "text/plain": [
       "<matplotlib.figure.Figure at 0x11f84ff28>"
      ]
     },
     "metadata": {},
     "output_type": "display_data"
    }
   ],
   "source": [
    "cols = ['review_count', 'n_friends', 'useful', 'funny', 'cool', 'fans', 'n_elite', 'type']\n",
    "axes = df_user.hist(column=cols)\n",
    "for i in axes:\n",
    "    for ax in i:\n",
    "        ax.set_yscale('log')\n",
    "\n",
    "plt.subplots_adjust(hspace=0.8)\n",
    "plt.suptitle('user')\n",
    "plt.show()"
   ]
  },
  {
   "cell_type": "code",
   "execution_count": 10,
   "metadata": {},
   "outputs": [
    {
     "data": {
      "image/png": "[encoded data removed]",
      "text/plain": [
       "<matplotlib.figure.Figure at 0x1205acc18>"
      ]
     },
     "metadata": {},
     "output_type": "display_data"
    },
    {
     "data": {
      "image/png": "[encoded data removed]",
      "text/plain": [
       "<matplotlib.figure.Figure at 0x11f8ef860>"
      ]
     },
     "metadata": {},
     "output_type": "display_data"
    },
    {
     "data": {
      "image/png": "[encoded data removed]",
      "text/plain": [
       "<matplotlib.figure.Figure at 0x120688128>"
      ]
     },
     "metadata": {},
     "output_type": "display_data"
    }
   ],
   "source": [
    "cols = ['likes']\n",
    "axes = df_tip.hist(column=cols)\n",
    "for i in axes:\n",
    "    for ax in i:\n",
    "        ax.set_yscale('log')\n",
    "\n",
    "plt.subplots_adjust(hspace=0.8)\n",
    "plt.suptitle('tip')\n",
    "plt.show()\n",
    "\n",
    "# Tips per business\n",
    "t = df_tip.groupby('business_id').size().value_counts()\n",
    "ax = sns.barplot(x=np.array(t.keys()), y=t.values)\n",
    "ax.set_yscale('log')\n",
    "ax.xaxis.set_ticklabels([])\n",
    "plt.title('tips per business')\n",
    "plt.show()\n",
    "\n",
    "# Tips per user\n",
    "t = df_tip.groupby('user_id').size().value_counts()\n",
    "ax = sns.barplot(x=np.array(t.keys()), y=t.values)\n",
    "ax.set_yscale('log')\n",
    "ax.xaxis.set_ticklabels([])\n",
    "plt.title('tips per user')\n",
    "plt.show()\n"
   ]
  },
  {
   "cell_type": "markdown",
   "metadata": {
    "collapsed": true
   },
   "source": [
    "## Questions\n",
    "How well can you guess a review's rating from its text alone? Can you take all of the reviews of a business and predict when it will be the most busy, or when the business is open? Can you predict if a business is good for kids? Has WiFi? Has Parking? What makes a review useful, funny, or cool? Can you figure out which business a user is likely to review next? How much of a business's success is really just location, location, location? What businesses deserve their own subcategory (i.e., Szechuan or Hunan versus just “Chinese restaurants”), and can you learn this from the review text? What are the differences between the cities in the dataset?\n",
    "\n",
    "Can you take all of the reviews of a business and predict when it will be the most busy, or when the business is open?"
   ]
  },
  {
   "cell_type": "code",
   "execution_count": 48,
   "metadata": {},
   "outputs": [
    {
     "name": "stdout",
     "output_type": "stream",
     "text": [
      "0  found:  0\n",
      "1000  found:  8\n",
      "2000  found:  18\n",
      "3000  found:  26\n",
      "4000  found:  39\n"
     ]
    },
    {
     "ename": "KeyboardInterrupt",
     "evalue": "",
     "output_type": "error",
     "traceback": [
      "\u001b[0;31m---------------------------------------------------------------------------\u001b[0m",
      "\u001b[0;31mKeyboardInterrupt\u001b[0m                         Traceback (most recent call last)",
      "\u001b[0;32m<ipython-input-48-eb5d102783b0>\u001b[0m in \u001b[0;36m<module>\u001b[0;34m()\u001b[0m\n\u001b[1;32m      6\u001b[0m \u001b[0;34m\u001b[0m\u001b[0m\n\u001b[1;32m      7\u001b[0m     \u001b[0;31m# Since the opening times change sometimes we ignore \"old\" reviews\u001b[0m\u001b[0;34m\u001b[0m\u001b[0;34m\u001b[0m\u001b[0m\n\u001b[0;32m----> 8\u001b[0;31m     s = df_review[(df_review['business_id'] == row['business_id']) & \n\u001b[0m\u001b[1;32m      9\u001b[0m                   (df_review['date'] > datetime(2013, 1, 1))].groupby('weekday').size()\n\u001b[1;32m     10\u001b[0m     \u001b[0;32mif\u001b[0m \u001b[0mlen\u001b[0m\u001b[0;34m(\u001b[0m\u001b[0ms\u001b[0m\u001b[0;34m)\u001b[0m\u001b[0;34m>\u001b[0m\u001b[0;36m0\u001b[0m\u001b[0;34m:\u001b[0m\u001b[0;34m\u001b[0m\u001b[0m\n",
      "\u001b[0;32m/usr/local/anaconda3/lib/python3.6/site-packages/pandas/core/ops.py\u001b[0m in \u001b[0;36mwrapper\u001b[0;34m(self, other, axis)\u001b[0m\n\u001b[1;32m    859\u001b[0m \u001b[0;34m\u001b[0m\u001b[0m\n\u001b[1;32m    860\u001b[0m             \u001b[0;32mwith\u001b[0m \u001b[0mnp\u001b[0m\u001b[0;34m.\u001b[0m\u001b[0merrstate\u001b[0m\u001b[0;34m(\u001b[0m\u001b[0mall\u001b[0m\u001b[0;34m=\u001b[0m\u001b[0;34m'ignore'\u001b[0m\u001b[0;34m)\u001b[0m\u001b[0;34m:\u001b[0m\u001b[0;34m\u001b[0m\u001b[0m\n\u001b[0;32m--> 861\u001b[0;31m                 \u001b[0mres\u001b[0m \u001b[0;34m=\u001b[0m \u001b[0mna_op\u001b[0m\u001b[0;34m(\u001b[0m\u001b[0mvalues\u001b[0m\u001b[0;34m,\u001b[0m \u001b[0mother\u001b[0m\u001b[0;34m)\u001b[0m\u001b[0;34m\u001b[0m\u001b[0m\n\u001b[0m\u001b[1;32m    862\u001b[0m             \u001b[0;32mif\u001b[0m \u001b[0mis_scalar\u001b[0m\u001b[0;34m(\u001b[0m\u001b[0mres\u001b[0m\u001b[0;34m)\u001b[0m\u001b[0;34m:\u001b[0m\u001b[0;34m\u001b[0m\u001b[0m\n\u001b[1;32m    863\u001b[0m                 raise TypeError('Could not compare %s type with Series' %\n",
      "\u001b[0;32m/usr/local/anaconda3/lib/python3.6/site-packages/pandas/core/ops.py\u001b[0m in \u001b[0;36mna_op\u001b[0;34m(x, y)\u001b[0m\n\u001b[1;32m    763\u001b[0m \u001b[0;34m\u001b[0m\u001b[0m\n\u001b[1;32m    764\u001b[0m         \u001b[0;32mif\u001b[0m \u001b[0mis_object_dtype\u001b[0m\u001b[0;34m(\u001b[0m\u001b[0mx\u001b[0m\u001b[0;34m.\u001b[0m\u001b[0mdtype\u001b[0m\u001b[0;34m)\u001b[0m\u001b[0;34m:\u001b[0m\u001b[0;34m\u001b[0m\u001b[0m\n\u001b[0;32m--> 765\u001b[0;31m             \u001b[0mresult\u001b[0m \u001b[0;34m=\u001b[0m \u001b[0m_comp_method_OBJECT_ARRAY\u001b[0m\u001b[0;34m(\u001b[0m\u001b[0mop\u001b[0m\u001b[0;34m,\u001b[0m \u001b[0mx\u001b[0m\u001b[0;34m,\u001b[0m \u001b[0my\u001b[0m\u001b[0;34m)\u001b[0m\u001b[0;34m\u001b[0m\u001b[0m\n\u001b[0m\u001b[1;32m    766\u001b[0m         \u001b[0;32melse\u001b[0m\u001b[0;34m:\u001b[0m\u001b[0;34m\u001b[0m\u001b[0m\n\u001b[1;32m    767\u001b[0m \u001b[0;34m\u001b[0m\u001b[0m\n",
      "\u001b[0;32m/usr/local/anaconda3/lib/python3.6/site-packages/pandas/core/ops.py\u001b[0m in \u001b[0;36m_comp_method_OBJECT_ARRAY\u001b[0;34m(op, x, y)\u001b[0m\n\u001b[1;32m    743\u001b[0m         \u001b[0mresult\u001b[0m \u001b[0;34m=\u001b[0m \u001b[0mlib\u001b[0m\u001b[0;34m.\u001b[0m\u001b[0mvec_compare\u001b[0m\u001b[0;34m(\u001b[0m\u001b[0mx\u001b[0m\u001b[0;34m,\u001b[0m \u001b[0my\u001b[0m\u001b[0;34m,\u001b[0m \u001b[0mop\u001b[0m\u001b[0;34m)\u001b[0m\u001b[0;34m\u001b[0m\u001b[0m\n\u001b[1;32m    744\u001b[0m     \u001b[0;32melse\u001b[0m\u001b[0;34m:\u001b[0m\u001b[0;34m\u001b[0m\u001b[0m\n\u001b[0;32m--> 745\u001b[0;31m         \u001b[0mresult\u001b[0m \u001b[0;34m=\u001b[0m \u001b[0mlib\u001b[0m\u001b[0;34m.\u001b[0m\u001b[0mscalar_compare\u001b[0m\u001b[0;34m(\u001b[0m\u001b[0mx\u001b[0m\u001b[0;34m,\u001b[0m \u001b[0my\u001b[0m\u001b[0;34m,\u001b[0m \u001b[0mop\u001b[0m\u001b[0;34m)\u001b[0m\u001b[0;34m\u001b[0m\u001b[0m\n\u001b[0m\u001b[1;32m    746\u001b[0m     \u001b[0;32mreturn\u001b[0m \u001b[0mresult\u001b[0m\u001b[0;34m\u001b[0m\u001b[0m\n\u001b[1;32m    747\u001b[0m \u001b[0;34m\u001b[0m\u001b[0m\n",
      "\u001b[0;31mKeyboardInterrupt\u001b[0m: "
     ]
    }
   ],
   "source": [
    "# TODO too slow, use groupby etc.\n",
    "X = []; y = []\n",
    "for i, row in df_bus.iterrows():\n",
    "    if not row['hours']: continue\n",
    "    \n",
    "    # Since the opening times change sometimes we ignore \"old\" reviews\n",
    "    s = df_review[(df_review['business_id'] == row['business_id']) & \n",
    "                  (df_review['date'] > datetime(2013, 1, 1))].groupby('weekday').size()\n",
    "    if len(s)>0:\n",
    "        # X\n",
    "        review_days = pd.Series(s, index=range(0, 7)).fillna(0).astype(np.int8)\n",
    "        X.append(review_days)\n",
    "        \n",
    "        # y\n",
    "        y.append(row['opening_days'][0]) # classification problem\n",
    "    if i%1000==0: print(i, ' found: ', len(X))\n",
    "\n",
    "print('Data prepared. Rows: {}'.format(len(X)))\n",
    "from sklearn.model_selection import train_test_split\n",
    "X_train, X_test, y_train, y_test = train_test_split(X, y, test_size=0.2, random_state=999)        \n",
    "\n",
    "%timeit df_review[(df_review['business_id'] == row['business_id'])].groupby('weekday').size()\n",
    "\n",
    "# Possibilities:\n",
    "# date of review -> weekday\n",
    "# no reviews on this weekday -> probably not open\n",
    "# how about the hours of being open?"
   ]
  },
  {
   "cell_type": "code",
   "execution_count": 39,
   "metadata": {},
   "outputs": [
    {
     "name": "stdout",
     "output_type": "stream",
     "text": [
      "R^2: -0.143\n",
      "Explained var: 0.000000\n",
      "[1 1 1 1 1 1 1 1 1 1 1 1 1 1 1 1 1 1 1 1 1 1 1 1 1 1 1 1 1 1 1 1 1 1 1 1 1\n",
      " 1 1 1]\n",
      "             precision    recall  f1-score   support\n",
      "\n",
      "          0       0.00      0.00      0.00         5\n",
      "          1       0.88      1.00      0.93        35\n",
      "\n",
      "avg / total       0.77      0.88      0.82        40\n",
      "\n"
     ]
    },
    {
     "ename": "AttributeError",
     "evalue": "'list' object has no attribute 'size'",
     "output_type": "error",
     "traceback": [
      "\u001b[0;31m---------------------------------------------------------------------------\u001b[0m",
      "\u001b[0;31mAttributeError\u001b[0m                            Traceback (most recent call last)",
      "\u001b[0;32m<ipython-input-39-3b876a1c8038>\u001b[0m in \u001b[0;36m<module>\u001b[0;34m()\u001b[0m\n\u001b[1;32m     22\u001b[0m \u001b[0;31m# data needs sampling\u001b[0m\u001b[0;34m\u001b[0m\u001b[0;34m\u001b[0m\u001b[0m\n\u001b[1;32m     23\u001b[0m \u001b[0;31m# a model for every day or multiple regression?\u001b[0m\u001b[0;34m\u001b[0m\u001b[0;34m\u001b[0m\u001b[0m\n\u001b[0;32m---> 24\u001b[0;31m \u001b[0my\u001b[0m\u001b[0;34m.\u001b[0m\u001b[0msize\u001b[0m\u001b[0;34m(\u001b[0m\u001b[0;34m)\u001b[0m\u001b[0;34m\u001b[0m\u001b[0m\n\u001b[0m",
      "\u001b[0;31mAttributeError\u001b[0m: 'list' object has no attribute 'size'"
     ]
    }
   ],
   "source": [
    "# train model\n",
    "from sklearn.preprocessing import StandardScaler\n",
    "from sklearn.metrics import r2_score, explained_variance_score, classification_report\n",
    "from sklearn.pipeline import Pipeline\n",
    "from sklearn.linear_model import LogisticRegression\n",
    "\n",
    "model = Pipeline([\n",
    "    ('scaler', StandardScaler()),\n",
    "    ('learner', LogisticRegression())\n",
    "])\n",
    "\n",
    "#print(y_train)\n",
    "model.fit(X_train, y_train)\n",
    "y_pred = model.predict(X_test)\n",
    "print(\"R^2: %1.3f\" % r2_score(y_test, y_pred))\n",
    "print(\"Explained var: {:3f}\".format(explained_variance_score(y_test, y_pred)))\n",
    "print(y_pred)\n",
    "print(classification_report(y_test, y_pred))\n",
    "\n",
    "# overfitting\n",
    "# not enough data to train, better performance needed\n",
    "# data needs sampling\n",
    "# a model for every day or multiple regression?"
   ]
  },
  {
   "cell_type": "markdown",
   "metadata": {},
   "source": [
    "Can you predict if a business is good for kids? Has WiFi? Has Parking?"
   ]
  },
  {
   "cell_type": "code",
   "execution_count": 22,
   "metadata": {},
   "outputs": [
    {
     "data": {
      "text/html": [
       "<div>\n",
       "<style>\n",
       "    .dataframe thead tr:only-child th {\n",
       "        text-align: right;\n",
       "    }\n",
       "\n",
       "    .dataframe thead th {\n",
       "        text-align: left;\n",
       "    }\n",
       "\n",
       "    .dataframe tbody tr th {\n",
       "        vertical-align: top;\n",
       "    }\n",
       "</style>\n",
       "<table border=\"1\" class=\"dataframe\">\n",
       "  <thead>\n",
       "    <tr style=\"text-align: right;\">\n",
       "      <th></th>\n",
       "      <th>address</th>\n",
       "      <th>attributes</th>\n",
       "      <th>business_id</th>\n",
       "      <th>categories</th>\n",
       "      <th>city</th>\n",
       "      <th>hours</th>\n",
       "      <th>is_open</th>\n",
       "      <th>latitude</th>\n",
       "      <th>longitude</th>\n",
       "      <th>name</th>\n",
       "      <th>...</th>\n",
       "      <th>attr_RestaurantsCounterService</th>\n",
       "      <th>attr_RestaurantsDelivery</th>\n",
       "      <th>attr_RestaurantsGoodForGroups</th>\n",
       "      <th>attr_RestaurantsPriceRange2</th>\n",
       "      <th>attr_RestaurantsReservations</th>\n",
       "      <th>attr_RestaurantsTableService</th>\n",
       "      <th>attr_RestaurantsTakeOut</th>\n",
       "      <th>attr_Smoking</th>\n",
       "      <th>attr_WheelchairAccessible</th>\n",
       "      <th>attr_WiFi</th>\n",
       "    </tr>\n",
       "  </thead>\n",
       "  <tbody>\n",
       "    <tr>\n",
       "      <th>0</th>\n",
       "      <td>227 E Baseline Rd, Ste J2</td>\n",
       "      <td>[BikeParking: True, BusinessAcceptsBitcoin: Fa...</td>\n",
       "      <td>0DI8Dt2PJp07XkVvIElIcQ</td>\n",
       "      <td>[Tobacco Shops, Nightlife, Vape Shops, Shopping]</td>\n",
       "      <td>Tempe</td>\n",
       "      <td>[Monday 11:0-21:0, Tuesday 11:0-21:0, Wednesda...</td>\n",
       "      <td>0</td>\n",
       "      <td>33.378214</td>\n",
       "      <td>-111.936102</td>\n",
       "      <td>Innovative Vapors</td>\n",
       "      <td>...</td>\n",
       "      <td>0</td>\n",
       "      <td>0</td>\n",
       "      <td>0</td>\n",
       "      <td>2</td>\n",
       "      <td>0</td>\n",
       "      <td>0</td>\n",
       "      <td>0</td>\n",
       "      <td>0</td>\n",
       "      <td>1</td>\n",
       "      <td>0</td>\n",
       "    </tr>\n",
       "    <tr>\n",
       "      <th>1</th>\n",
       "      <td>495 S Grand Central Pkwy</td>\n",
       "      <td>[BusinessAcceptsBitcoin: False, BusinessAccept...</td>\n",
       "      <td>LTlCaCGZE14GuaUXUGbamg</td>\n",
       "      <td>[Caterers, Grocery, Food, Event Planning &amp; Ser...</td>\n",
       "      <td>Las Vegas</td>\n",
       "      <td>[Monday 0:0-0:0, Tuesday 0:0-0:0, Wednesday 0:...</td>\n",
       "      <td>1</td>\n",
       "      <td>36.192284</td>\n",
       "      <td>-115.159272</td>\n",
       "      <td>Cut and Taste</td>\n",
       "      <td>...</td>\n",
       "      <td>0</td>\n",
       "      <td>0</td>\n",
       "      <td>0</td>\n",
       "      <td>0</td>\n",
       "      <td>0</td>\n",
       "      <td>0</td>\n",
       "      <td>0</td>\n",
       "      <td>0</td>\n",
       "      <td>0</td>\n",
       "      <td>0</td>\n",
       "    </tr>\n",
       "    <tr>\n",
       "      <th>2</th>\n",
       "      <td>979 Bloor Street W</td>\n",
       "      <td>[Alcohol: none, Ambience: {'romantic': False, ...</td>\n",
       "      <td>EDqCEAGXVGCH4FJXgqtjqg</td>\n",
       "      <td>[Restaurants, Pizza, Chicken Wings, Italian]</td>\n",
       "      <td>Toronto</td>\n",
       "      <td>[Monday 11:0-2:0, Tuesday 11:0-2:0, Wednesday ...</td>\n",
       "      <td>1</td>\n",
       "      <td>43.661054</td>\n",
       "      <td>-79.429089</td>\n",
       "      <td>Pizza Pizza</td>\n",
       "      <td>...</td>\n",
       "      <td>0</td>\n",
       "      <td>1</td>\n",
       "      <td>1</td>\n",
       "      <td>1</td>\n",
       "      <td>0</td>\n",
       "      <td>0</td>\n",
       "      <td>1</td>\n",
       "      <td>0</td>\n",
       "      <td>0</td>\n",
       "      <td>1</td>\n",
       "    </tr>\n",
       "  </tbody>\n",
       "</table>\n",
       "<p>3 rows × 55 columns</p>\n",
       "</div>"
      ],
      "text/plain": [
       "                     address  \\\n",
       "0  227 E Baseline Rd, Ste J2   \n",
       "1   495 S Grand Central Pkwy   \n",
       "2         979 Bloor Street W   \n",
       "\n",
       "                                          attributes             business_id  \\\n",
       "0  [BikeParking: True, BusinessAcceptsBitcoin: Fa...  0DI8Dt2PJp07XkVvIElIcQ   \n",
       "1  [BusinessAcceptsBitcoin: False, BusinessAccept...  LTlCaCGZE14GuaUXUGbamg   \n",
       "2  [Alcohol: none, Ambience: {'romantic': False, ...  EDqCEAGXVGCH4FJXgqtjqg   \n",
       "\n",
       "                                          categories       city  \\\n",
       "0   [Tobacco Shops, Nightlife, Vape Shops, Shopping]      Tempe   \n",
       "1  [Caterers, Grocery, Food, Event Planning & Ser...  Las Vegas   \n",
       "2       [Restaurants, Pizza, Chicken Wings, Italian]    Toronto   \n",
       "\n",
       "                                               hours  is_open   latitude  \\\n",
       "0  [Monday 11:0-21:0, Tuesday 11:0-21:0, Wednesda...        0  33.378214   \n",
       "1  [Monday 0:0-0:0, Tuesday 0:0-0:0, Wednesday 0:...        1  36.192284   \n",
       "2  [Monday 11:0-2:0, Tuesday 11:0-2:0, Wednesday ...        1  43.661054   \n",
       "\n",
       "    longitude               name    ...     attr_RestaurantsCounterService  \\\n",
       "0 -111.936102  Innovative Vapors    ...                                  0   \n",
       "1 -115.159272      Cut and Taste    ...                                  0   \n",
       "2  -79.429089        Pizza Pizza    ...                                  0   \n",
       "\n",
       "  attr_RestaurantsDelivery  attr_RestaurantsGoodForGroups  \\\n",
       "0                        0                              0   \n",
       "1                        0                              0   \n",
       "2                        1                              1   \n",
       "\n",
       "   attr_RestaurantsPriceRange2 attr_RestaurantsReservations  \\\n",
       "0                            2                            0   \n",
       "1                            0                            0   \n",
       "2                            1                            0   \n",
       "\n",
       "  attr_RestaurantsTableService  attr_RestaurantsTakeOut  attr_Smoking  \\\n",
       "0                            0                        0             0   \n",
       "1                            0                        0             0   \n",
       "2                            0                        1             0   \n",
       "\n",
       "   attr_WheelchairAccessible  attr_WiFi  \n",
       "0                          1          0  \n",
       "1                          0          0  \n",
       "2                          0          1  \n",
       "\n",
       "[3 rows x 55 columns]"
      ]
     },
     "execution_count": 22,
     "metadata": {},
     "output_type": "execute_result"
    }
   ],
   "source": [
    "def count_parking(attr):\n",
    "    counter = 0\n",
    "    park = [i for i in attr if i.startswith('BusinessParking')]\n",
    "\n",
    "    if len(park)>0:\n",
    "        # better than parsing json?\n",
    "        for a in [\"'garage': True\", \"'street': True\", \"'lot': True\", \"'valet': True\"]:\n",
    "            if a in park[0]:\n",
    "                counter += 1\n",
    "\n",
    "    return counter\n",
    "\n",
    "x_cols = ['review_count', 'stars', 'latitude', 'longitude', 'attr_WheelchairAccessible', 'attr_Smoking', 'attr_RestaurantsGoodForGroups']\n",
    "for i, row in df_bus.iterrows():\n",
    "    if not row['attributes']: continue\n",
    "    # X\n",
    "    \n",
    "    \n",
    "    # y\n",
    "    parking_counter = count_parking(row['attributes'])\n",
    "    \n",
    "    if i>10: break\n",
    "        \n",
    "        \n",
    "# split data\n",
    "# train model\n",
    "        \n",
    "df_bus.head(3)#['hours'].values"
   ]
  },
  {
   "cell_type": "code",
   "execution_count": null,
   "metadata": {
    "collapsed": true
   },
   "outputs": [],
   "source": []
  }
 ],
 "metadata": {
  "kernelspec": {
   "display_name": "Python 3",
   "language": "python",
   "name": "python3"
  },
  "language_info": {
   "codemirror_mode": {
    "name": "ipython",
    "version": 3
   },
   "file_extension": ".py",
   "mimetype": "text/x-python",
   "name": "python",
   "nbconvert_exporter": "python",
   "pygments_lexer": "ipython3",
   "version": "3.6.1"
  }
 },
 "nbformat": 4,
 "nbformat_minor": 2
}
