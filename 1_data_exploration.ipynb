{
 "cells": [
  {
   "cell_type": "code",
   "execution_count": 1,
   "metadata": {
    "collapsed": true
   },
   "outputs": [],
   "source": [
    "%matplotlib inline\n",
    "#%matplotlib notebook\n",
    "#%matplotlib notebook\n",
    "import re\n",
    "import numpy as np\n",
    "import matplotlib.pyplot as plt\n",
    "plt.style.use('ggplot')\n",
    "import seaborn as sns\n",
    "sns.set(color_codes=True)\n",
    "\n",
    "from time import time\n",
    "from datetime import datetime\n",
    "import warnings\n",
    "warnings.filterwarnings('ignore')\n",
    "\n",
    "import pandas as pd\n",
    "import os; import json; import fileinput\n",
    "#from numba import jit"
   ]
  },
  {
   "cell_type": "code",
   "execution_count": 34,
   "metadata": {},
   "outputs": [
    {
     "name": "stdout",
     "output_type": "stream",
     "text": [
      "Done in 234.50342392921448 s\n"
     ]
    }
   ],
   "source": [
    "st = time()\n",
    "fileinput.close() # sometimes fileinput is already active\n",
    "\n",
    "def load_file(filename, transformer=None, max_lines = 50000):\n",
    "    data_dir = \"yelp_dataset_challenge_round9\"\n",
    "    filepath = os.path.join(data_dir, filename)\n",
    "\n",
    "    data = []\n",
    "    for line in fileinput.input(filepath):\n",
    "        d = json.loads(line)\n",
    "                \n",
    "        if transformer:\n",
    "            d = transformer(d)\n",
    "\n",
    "        data.append(d)\n",
    "        if len(data) > max_lines: break\n",
    "            \n",
    "    fileinput.close()\n",
    "    return pd.DataFrame(data)\n",
    "\n",
    "# These functions transform some values for later\n",
    "def transf_checkin(d):\n",
    "    d['n_time'] = len(d['time'])\n",
    "    return d\n",
    "\n",
    "def transf_review(d):\n",
    "    d['date'] = datetime.strptime(d['date'], '%Y-%m-%d')\n",
    "    d['weekday'] = d['date'].weekday()\n",
    "    return d\n",
    "\n",
    "def transf_user(d):    \n",
    "    d['n_friends'] = len(d['friends'])\n",
    "    d['n_elite'] = len(d['elite'])\n",
    "    del d['friends']\n",
    "    del d['elite']\n",
    "    #del d['compliment_writer'] # are there more than one type?\n",
    "    return d\n",
    "\n",
    "df_bus = load_file(\"yelp_academic_dataset_business.json\", None, 1500000)\n",
    "df_checkin = load_file(\"yelp_academic_dataset_checkin.json\", transf_checkin)\n",
    "df_review = load_file(\"yelp_academic_dataset_review.json\", transf_review, 1500000)\n",
    "df_tip = load_file(\"yelp_academic_dataset_tip.json\")\n",
    "df_user = load_file(\"yelp_academic_dataset_user.json\", transf_user)\n",
    "\n",
    "def hours_to_matrix(hours):\n",
    "    mat = np.zeros((7,), dtype=np.int8)\n",
    "    if hours is None: \n",
    "        return mat\n",
    "    day = 0\n",
    "    for h in hours:\n",
    "        length = 0\n",
    "        rr = re.findall(\"[.]?[\\d]+(?:,\\d\\d\\d)*[\\.]?\\d*(?:[eE]\\d+)?\", h)\n",
    "        if len(rr):\n",
    "            length = int(rr[2]) - int(rr[0])\n",
    "            if length < 0:\n",
    "                length += 24\n",
    "                \n",
    "        if h.startswith('Mon'): day = 0\n",
    "        if h.startswith('Tue'): day = 1\n",
    "        if h.startswith('Wed'): day = 2\n",
    "        if h.startswith('Thu'): day = 3\n",
    "        if h.startswith('Fri'): day = 4\n",
    "        if h.startswith('Sat'): day = 5\n",
    "        if h.startswith('Sun'): day = 6\n",
    "        mat[day] = length\n",
    "    return mat\n",
    "\n",
    "# add attributes columns\n",
    "# TODO unfinished for \"GoodForMeal\", \"Ambience\"\n",
    "def add_attribute_cols(attr):\n",
    "    s = {}\n",
    "    if attr is not None:\n",
    "        for a in attr:\n",
    "            t = a.split(':')\n",
    "            if \"True\" in t[1]:\n",
    "                s[\"attr_\" + t[0].strip()] = 1\n",
    "            else:\n",
    "                s[\"attr_\" + t[0].strip()] = 0\n",
    "            if \"RestaurantsPriceRange2\" in a:\n",
    "                s[\"attr_RestaurantsPriceRange2\"] = int(t[1])\n",
    "            if \"WiFi: free\" in a:\n",
    "                s[\"attr_WiFi\"] = 1\n",
    "            if \"BusinessParking\" in a: # improvable\n",
    "                counter = 0\n",
    "                for b in [\"'garage': True\", \"'street': True\", \"'lot': True\", \"'valet': True\"]:\n",
    "                    if b in a:\n",
    "                        counter += 1\n",
    "                s[\"n_parking\"] = counter\n",
    "    return pd.Series(s, dtype=np.int8)\n",
    "\n",
    "df_bus['opening_hours'] = df_bus['hours'].apply(hours_to_matrix)\n",
    "df_bus = df_bus.merge(df_bus['attributes'].apply(add_attribute_cols).fillna(0, downcast='infer'), left_index=True, right_index=True)\n",
    "#df_bus = df_bus.fillna(0, downcast='infer')\n",
    "\n",
    "df_review = df_review.sort_values(['business_id'])\n",
    "\n",
    "#df_user['friends']\n",
    "#df_user['elite']\n",
    "\n",
    "# Memory optimization\n",
    "# Technical stuff, contributes nothing to analysis\n",
    "for df in [df_bus, df_checkin, df_review, df_tip, df_user]:\n",
    "    conv = df.select_dtypes(include=['int']).apply(pd.to_numeric,downcast='unsigned')\n",
    "    df[conv.columns] = conv\n",
    "\n",
    "# Show memory usage\n",
    "#df_bus.info(memory_usage='deep')\n",
    "\n",
    "print('Done in {} s'.format(time() - st))"
   ]
  },
  {
   "cell_type": "code",
   "execution_count": 5,
   "metadata": {},
   "outputs": [
    {
     "data": {
      "text/html": [
       "<div>\n",
       "<style>\n",
       "    .dataframe thead tr:only-child th {\n",
       "        text-align: right;\n",
       "    }\n",
       "\n",
       "    .dataframe thead th {\n",
       "        text-align: left;\n",
       "    }\n",
       "\n",
       "    .dataframe tbody tr th {\n",
       "        vertical-align: top;\n",
       "    }\n",
       "</style>\n",
       "<table border=\"1\" class=\"dataframe\">\n",
       "  <thead>\n",
       "    <tr style=\"text-align: right;\">\n",
       "      <th></th>\n",
       "      <th>address</th>\n",
       "      <th>attributes</th>\n",
       "      <th>business_id</th>\n",
       "      <th>categories</th>\n",
       "      <th>city</th>\n",
       "      <th>hours</th>\n",
       "      <th>is_open</th>\n",
       "      <th>latitude</th>\n",
       "      <th>longitude</th>\n",
       "      <th>name</th>\n",
       "      <th>...</th>\n",
       "      <th>attr_RestaurantsDelivery</th>\n",
       "      <th>attr_RestaurantsGoodForGroups</th>\n",
       "      <th>attr_RestaurantsPriceRange2</th>\n",
       "      <th>attr_RestaurantsReservations</th>\n",
       "      <th>attr_RestaurantsTableService</th>\n",
       "      <th>attr_RestaurantsTakeOut</th>\n",
       "      <th>attr_Smoking</th>\n",
       "      <th>attr_WheelchairAccessible</th>\n",
       "      <th>attr_WiFi</th>\n",
       "      <th>n_parking</th>\n",
       "    </tr>\n",
       "  </thead>\n",
       "  <tbody>\n",
       "    <tr>\n",
       "      <th>144069</th>\n",
       "      <td>4757 E Greenway Rd</td>\n",
       "      <td>[BusinessAcceptsCreditCards: True, BusinessPar...</td>\n",
       "      <td>5GslSGCDT3gXei0kKR-P3g</td>\n",
       "      <td>[Food, Ice Cream &amp; Frozen Yogurt]</td>\n",
       "      <td>Phoenix</td>\n",
       "      <td>None</td>\n",
       "      <td>0</td>\n",
       "      <td>33.626005</td>\n",
       "      <td>-111.977799</td>\n",
       "      <td>Yin Yang Self Serve Frozen Yogurt</td>\n",
       "      <td>...</td>\n",
       "      <td>0</td>\n",
       "      <td>0</td>\n",
       "      <td>1</td>\n",
       "      <td>0</td>\n",
       "      <td>0</td>\n",
       "      <td>0</td>\n",
       "      <td>0</td>\n",
       "      <td>0</td>\n",
       "      <td>1</td>\n",
       "      <td>1</td>\n",
       "    </tr>\n",
       "    <tr>\n",
       "      <th>144070</th>\n",
       "      <td>4727 E Bell Rd, Ste 31</td>\n",
       "      <td>[Alcohol: none, Ambience: {'romantic': False, ...</td>\n",
       "      <td>z0GwhlBflcCnVdACU9tQxQ</td>\n",
       "      <td>[Restaurants, Hot Dogs]</td>\n",
       "      <td>Phoenix</td>\n",
       "      <td>[Monday 11:0-20:0, Tuesday 11:0-20:0, Wednesda...</td>\n",
       "      <td>0</td>\n",
       "      <td>33.640348</td>\n",
       "      <td>-111.969566</td>\n",
       "      <td>Famous Uncle Al's Hot Dogs and Grille</td>\n",
       "      <td>...</td>\n",
       "      <td>0</td>\n",
       "      <td>1</td>\n",
       "      <td>1</td>\n",
       "      <td>0</td>\n",
       "      <td>1</td>\n",
       "      <td>1</td>\n",
       "      <td>0</td>\n",
       "      <td>1</td>\n",
       "      <td>0</td>\n",
       "      <td>1</td>\n",
       "    </tr>\n",
       "    <tr>\n",
       "      <th>144071</th>\n",
       "      <td>4550 Cactus Road, Suite 318</td>\n",
       "      <td>[BikeParking: True, BusinessAcceptsCreditCards...</td>\n",
       "      <td>a048R60CLFeObJ3mhHdPRg</td>\n",
       "      <td>[Shopping, Mobile Phones]</td>\n",
       "      <td>Phoenix</td>\n",
       "      <td>[Monday 10:0-21:0, Tuesday 10:0-21:0, Wednesda...</td>\n",
       "      <td>1</td>\n",
       "      <td>33.602173</td>\n",
       "      <td>-111.983636</td>\n",
       "      <td>T-Mobile</td>\n",
       "      <td>...</td>\n",
       "      <td>0</td>\n",
       "      <td>0</td>\n",
       "      <td>3</td>\n",
       "      <td>0</td>\n",
       "      <td>0</td>\n",
       "      <td>0</td>\n",
       "      <td>0</td>\n",
       "      <td>0</td>\n",
       "      <td>0</td>\n",
       "      <td>1</td>\n",
       "    </tr>\n",
       "  </tbody>\n",
       "</table>\n",
       "<p>3 rows × 57 columns</p>\n",
       "</div>"
      ],
      "text/plain": [
       "                            address  \\\n",
       "144069           4757 E Greenway Rd   \n",
       "144070       4727 E Bell Rd, Ste 31   \n",
       "144071  4550 Cactus Road, Suite 318   \n",
       "\n",
       "                                               attributes  \\\n",
       "144069  [BusinessAcceptsCreditCards: True, BusinessPar...   \n",
       "144070  [Alcohol: none, Ambience: {'romantic': False, ...   \n",
       "144071  [BikeParking: True, BusinessAcceptsCreditCards...   \n",
       "\n",
       "                   business_id                         categories     city  \\\n",
       "144069  5GslSGCDT3gXei0kKR-P3g  [Food, Ice Cream & Frozen Yogurt]  Phoenix   \n",
       "144070  z0GwhlBflcCnVdACU9tQxQ            [Restaurants, Hot Dogs]  Phoenix   \n",
       "144071  a048R60CLFeObJ3mhHdPRg          [Shopping, Mobile Phones]  Phoenix   \n",
       "\n",
       "                                                    hours  is_open   latitude  \\\n",
       "144069                                               None        0  33.626005   \n",
       "144070  [Monday 11:0-20:0, Tuesday 11:0-20:0, Wednesda...        0  33.640348   \n",
       "144071  [Monday 10:0-21:0, Tuesday 10:0-21:0, Wednesda...        1  33.602173   \n",
       "\n",
       "         longitude                                   name    ...      \\\n",
       "144069 -111.977799      Yin Yang Self Serve Frozen Yogurt    ...       \n",
       "144070 -111.969566  Famous Uncle Al's Hot Dogs and Grille    ...       \n",
       "144071 -111.983636                               T-Mobile    ...       \n",
       "\n",
       "       attr_RestaurantsDelivery attr_RestaurantsGoodForGroups  \\\n",
       "144069                        0                             0   \n",
       "144070                        0                             1   \n",
       "144071                        0                             0   \n",
       "\n",
       "        attr_RestaurantsPriceRange2  attr_RestaurantsReservations  \\\n",
       "144069                            1                             0   \n",
       "144070                            1                             0   \n",
       "144071                            3                             0   \n",
       "\n",
       "       attr_RestaurantsTableService attr_RestaurantsTakeOut attr_Smoking  \\\n",
       "144069                            0                       0            0   \n",
       "144070                            1                       1            0   \n",
       "144071                            0                       0            0   \n",
       "\n",
       "        attr_WheelchairAccessible  attr_WiFi  n_parking  \n",
       "144069                          0          1          1  \n",
       "144070                          1          0          1  \n",
       "144071                          0          0          1  \n",
       "\n",
       "[3 rows x 57 columns]"
      ]
     },
     "execution_count": 5,
     "metadata": {},
     "output_type": "execute_result"
    }
   ],
   "source": [
    "# explore dfs here\n",
    "\n",
    "#df_user[df_user['compliment_writer'] != 'user']\n",
    "#print(df_bus[df_bus['type'] != 'business'])\n",
    "#print(df_checkin[df_checkin['type'] != 'checkin'])\n",
    "df_bus.tail(3)"
   ]
  },
  {
   "cell_type": "code",
   "execution_count": 6,
   "metadata": {},
   "outputs": [
    {
     "data": {
      "image/png": "[encoded data removed]",
      "text/plain": [
       "<matplotlib.figure.Figure at 0x129e97518>"
      ]
     },
     "metadata": {},
     "output_type": "display_data"
    }
   ],
   "source": [
    "cols = ['review_count', 'stars', 'is_open', 'latitude', 'longitude']\n",
    "axes = df_bus.hist(column=cols)\n",
    "for i in axes:\n",
    "    for ax in i:\n",
    "        ax.set_yscale('log')\n",
    "\n",
    "plt.subplots_adjust(hspace=0.8)\n",
    "plt.suptitle('business')\n",
    "plt.show()\n",
    "\n",
    "# business per city\n",
    "#v = df_bus.groupby('city').size()#.value_counts()\n",
    "#print(v)\n",
    "#sns.lmplot('latitude', 'longitude', data=df_bus, fit_reg=False)\n",
    "#ax = sns.barplot(x=np.array(v.keys()), y=v.values, palette=\"BuGn_d\")\n",
    "#ax.set_yscale('log') \n"
   ]
  },
  {
   "cell_type": "code",
   "execution_count": 7,
   "metadata": {
    "collapsed": true
   },
   "outputs": [],
   "source": [
    "import gmaps\n",
    "from api import api\n",
    "gmaps.configure(api_key=api)\n",
    "fig = gmaps.figure()\n",
    "heatmap_layer = gmaps.heatmap_layer(df_bus[['latitude', 'longitude']])\n",
    "fig.add_layer(heatmap_layer)\n",
    "#fig"
   ]
  },
  {
   "cell_type": "code",
   "execution_count": 8,
   "metadata": {},
   "outputs": [
    {
     "data": {
      "image/png": "[encoded data removed]",
      "text/plain": [
       "<matplotlib.figure.Figure at 0x11e8c0b38>"
      ]
     },
     "metadata": {},
     "output_type": "display_data"
    }
   ],
   "source": [
    "cols = ['n_time']\n",
    "axes = df_checkin.hist(column=cols)\n",
    "for i in axes:\n",
    "    for ax in i:\n",
    "        ax.set_yscale('log')\n",
    "\n",
    "plt.subplots_adjust(hspace=0.8)\n",
    "plt.suptitle('checkin')\n",
    "plt.show()"
   ]
  },
  {
   "cell_type": "code",
   "execution_count": 9,
   "metadata": {},
   "outputs": [
    {
     "data": {
      "image/png": "[encoded data removed]",
      "text/plain": [
       "<matplotlib.figure.Figure at 0x11d2d0f60>"
      ]
     },
     "metadata": {},
     "output_type": "display_data"
    }
   ],
   "source": [
    "cols = ['stars', 'cool', 'funny', 'useful']\n",
    "axes = df_review.hist(column=cols)\n",
    "for i in axes:\n",
    "    for ax in i:\n",
    "        ax.set_yscale('log')\n",
    "\n",
    "plt.subplots_adjust(hspace=0.8)\n",
    "plt.suptitle('review')\n",
    "plt.show()\n",
    "\n",
    "# reviews per user: see under user\n",
    "# reviews per business: see under business"
   ]
  },
  {
   "cell_type": "code",
   "execution_count": 10,
   "metadata": {},
   "outputs": [
    {
     "data": {
      "image/png": "[encoded data removed]",
      "text/plain": [
       "<matplotlib.figure.Figure at 0x11a8475c0>"
      ]
     },
     "metadata": {},
     "output_type": "display_data"
    }
   ],
   "source": [
    "cols = ['review_count', 'n_friends', 'useful', 'funny', 'cool', 'fans', 'n_elite', 'type']\n",
    "axes = df_user.hist(column=cols)\n",
    "for i in axes:\n",
    "    for ax in i:\n",
    "        ax.set_yscale('log')\n",
    "\n",
    "plt.subplots_adjust(hspace=0.8)\n",
    "plt.suptitle('user')\n",
    "plt.show()"
   ]
  },
  {
   "cell_type": "code",
   "execution_count": 11,
   "metadata": {},
   "outputs": [
    {
     "data": {
      "image/png": "[encoded data removed]",
      "text/plain": [
       "<matplotlib.figure.Figure at 0x1174eb588>"
      ]
     },
     "metadata": {},
     "output_type": "display_data"
    },
    {
     "data": {
      "image/png": "[encoded data removed]",
      "text/plain": [
       "<matplotlib.figure.Figure at 0x1130dc9b0>"
      ]
     },
     "metadata": {},
     "output_type": "display_data"
    },
    {
     "data": {
      "image/png": "[encoded data removed]",
      "text/plain": [
       "<matplotlib.figure.Figure at 0x1114e77b8>"
      ]
     },
     "metadata": {},
     "output_type": "display_data"
    }
   ],
   "source": [
    "cols = ['likes']\n",
    "axes = df_tip.hist(column=cols)\n",
    "for i in axes:\n",
    "    for ax in i:\n",
    "        ax.set_yscale('log')\n",
    "\n",
    "plt.subplots_adjust(hspace=0.8)\n",
    "plt.suptitle('tip')\n",
    "plt.show()\n",
    "\n",
    "# Tips per business\n",
    "t = df_tip.groupby('business_id').size().value_counts()\n",
    "ax = sns.barplot(x=np.array(t.keys()), y=t.values)\n",
    "ax.set_yscale('log')\n",
    "ax.xaxis.set_ticklabels([])\n",
    "plt.title('tips per business')\n",
    "plt.show()\n",
    "\n",
    "# Tips per user\n",
    "t = df_tip.groupby('user_id').size().value_counts()\n",
    "ax = sns.barplot(x=np.array(t.keys()), y=t.values)\n",
    "ax.set_yscale('log')\n",
    "ax.xaxis.set_ticklabels([])\n",
    "plt.title('tips per user')\n",
    "plt.show()"
   ]
  },
  {
   "cell_type": "markdown",
   "metadata": {
    "collapsed": true
   },
   "source": [
    "## Questions\n",
    "How well can you guess a review's rating from its text alone? Can you take all of the reviews of a business and predict when it will be the most busy, or when the business is open? Can you predict if a business is good for kids? Has WiFi? Has Parking? What makes a review useful, funny, or cool? Can you figure out which business a user is likely to review next? How much of a business's success is really just location, location, location? What businesses deserve their own subcategory (i.e., Szechuan or Hunan versus just “Chinese restaurants”), and can you learn this from the review text? What are the differences between the cities in the dataset?\n",
    "\n",
    "Can you take all of the reviews of a business and predict when it will be the most busy, or when the business is open?"
   ]
  },
  {
   "cell_type": "code",
   "execution_count": 35,
   "metadata": {
    "scrolled": true
   },
   "outputs": [
    {
     "data": {
      "image/png": "[encoded data removed]",
      "text/plain": [
       "<matplotlib.figure.Figure at 0x1858fdb00>"
      ]
     },
     "metadata": {},
     "output_type": "display_data"
    }
   ],
   "source": [
    "# prepare data\n",
    "reviews = df_review[df_review['date'] > datetime(2015, 1, 1)]\n",
    "#reviews = df_review\n",
    "reviews = reviews.groupby(['business_id', 'weekday']).size().to_frame('n_reviews').reset_index()\n",
    "reviews = reviews.merge(df_bus[['business_id', 'opening_hours', 'is_open']])\n",
    "reviews['hours_open'] = reviews.apply(lambda x: x['opening_hours'][x['weekday']], axis=1)    \n",
    "def is_open(hours):\n",
    "    if hours > 0: return 1\n",
    "    else: return 0\n",
    "reviews['open'] = reviews['hours_open'].apply(is_open)\n",
    "\n",
    "# Only take businesses with reviews\n",
    "reviews = reviews[(reviews['n_reviews']>0)]\n",
    "\n",
    "sns.lmplot('n_reviews', 'hours_open', data=reviews,\n",
    "           fit_reg=False)\n",
    "plt.ylabel('hours open')\n",
    "plt.xlabel('n reviews')\n",
    "plt.show()\n",
    "\n",
    "#reviews.groupby('open').size()\n",
    "#reviews.corr()"
   ]
  },
  {
   "cell_type": "code",
   "execution_count": 36,
   "metadata": {},
   "outputs": [
    {
     "name": "stdout",
     "output_type": "stream",
     "text": [
      "Data prepared. Rows: 201556\n",
      "R^2: 0.071\n",
      "Explained var: 0.071995\n"
     ]
    },
    {
     "data": {
      "image/png": "[encoded data removed]",
      "text/plain": [
       "<matplotlib.figure.Figure at 0x1821a3b70>"
      ]
     },
     "metadata": {},
     "output_type": "display_data"
    }
   ],
   "source": [
    "# split data\n",
    "X = reviews[['weekday', 'n_reviews']]\n",
    "y = reviews['hours_open']\n",
    "\n",
    "print('Data prepared. Rows: {}'.format(len(X)))\n",
    "from sklearn.model_selection import train_test_split\n",
    "X_train, X_test, y_train, y_test = train_test_split(X, y, test_size=0.2, random_state=999)        \n",
    "\n",
    "# train model\n",
    "from sklearn.preprocessing import StandardScaler\n",
    "from sklearn.metrics import r2_score, explained_variance_score, classification_report\n",
    "from sklearn.pipeline import Pipeline\n",
    "from sklearn.linear_model import LogisticRegression\n",
    "from sklearn.neural_network import MLPClassifier, MLPRegressor\n",
    "from sklearn.svm import NuSVR\n",
    "\n",
    "model = Pipeline([\n",
    "    ('scaler', StandardScaler()),\n",
    "#    ('learner', LogisticRegression())\n",
    "#    ('classifier', MLPClassifier())\n",
    "    ('regressor', MLPRegressor(alpha=0.01, hidden_layer_sizes=(100, 100)))\n",
    " #   ('regressor', NuSVR())\n",
    "])\n",
    "\n",
    "model.fit(X_train, y_train)\n",
    "y_pred = model.predict(X_test)\n",
    "print(\"R^2: %1.3f\" % r2_score(y_test, y_pred))\n",
    "print(\"Explained var: {:3f}\".format(explained_variance_score(y_test, y_pred)))\n",
    "if 'classifier' in model.named_steps:\n",
    "    print(classification_report(y_test, y_pred))\n",
    "    \n",
    "X_res = X_test['n_reviews']\n",
    "plt.scatter(X_res, y_test, color='black', label='actual')\n",
    "plt.scatter(X_res, y_pred, color='red', label='predicted')\n",
    "plt.xlabel('n_reviews')\n",
    "plt.legend(); plt.title('Test data')\n",
    "plt.show()\n",
    "\n",
    "if False:\n",
    "    st = time()\n",
    "    from sklearn.model_selection import GridSearchCV\n",
    "    print('Start cv grid search...')\n",
    "    params = {\n",
    "        'regressor__hidden_layer_sizes': [(100,), (100, 100), (100, 50)],\n",
    "        'regressor__alpha': [1e-5, 1e-4, 1e-3, 1e-2, 1e-1]\n",
    "       # 'regressor__degree': [2, 3, 4],\n",
    "       # 'regressor__C': [1e-2, 1e-1, 1, 1e1, 1e2]\n",
    "    }\n",
    "\n",
    "    grid = GridSearchCV(model, cv=3, n_jobs=-1, param_grid=params)\n",
    "    grid.fit(X_train, y_train)\n",
    "    \n",
    "    print(grid.best_estimator_.named_steps['regressor'])\n",
    "    print('Done in {} s'.format(time() - st))"
   ]
  },
  {
   "cell_type": "markdown",
   "metadata": {},
   "source": [
    "Can you predict if a business is good for kids? Has WiFi? Has Parking?"
   ]
  },
  {
   "cell_type": "code",
   "execution_count": null,
   "metadata": {
    "collapsed": true
   },
   "outputs": [],
   "source": [
    "# TODO\n",
    "# add text analysis, probably with NLTK for low feature elimination etc.\n",
    "# use more data, the models improve slightly with it, at least try a big run once\n"
   ]
  }
 ],
 "metadata": {
  "kernelspec": {
   "display_name": "Python 3",
   "language": "python",
   "name": "python3"
  },
  "language_info": {
   "codemirror_mode": {
    "name": "ipython",
    "version": 3
   },
   "file_extension": ".py",
   "mimetype": "text/x-python",
   "name": "python",
   "nbconvert_exporter": "python",
   "pygments_lexer": "ipython3",
   "version": "3.6.1"
  }
 },
 "nbformat": 4,
 "nbformat_minor": 2
}
